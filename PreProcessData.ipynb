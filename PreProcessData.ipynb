{
 "cells": [
  {
   "cell_type": "code",
   "execution_count": 1,
   "metadata": {},
   "outputs": [],
   "source": [
    "import numpy as np\n",
    "import pandas as pd\n",
    "import matplotlib.pyplot as plt\n",
    "import matplotlib.animation as animation\n",
    "import os\n",
    "from random import shuffle\n",
    "from collections import Counter\n",
    "%matplotlib inline"
   ]
  },
  {
   "cell_type": "code",
   "execution_count": 2,
   "metadata": {},
   "outputs": [
    {
     "name": "stdout",
     "output_type": "stream",
     "text": [
      "None\n"
     ]
    }
   ],
   "source": [
    "DIR = \"TrainingData/RAW\"\n",
    "TAR = \"TrainingData/model\"\n",
    "print(os.environ.get('QT_API'))"
   ]
  },
  {
   "cell_type": "code",
   "execution_count": 3,
   "metadata": {},
   "outputs": [],
   "source": [
    "W = [1, 0, 0, 0, 0, 0, 0, 0, 0]\n",
    "S = [0, 1, 0, 0, 0, 0, 0, 0, 0]\n",
    "A = [0, 0, 1, 0, 0, 0, 0, 0, 0]\n",
    "D = [0, 0, 0, 1, 0, 0, 0, 0, 0]\n",
    "WA = [0, 0, 0, 0, 1, 0, 0, 0, 0]\n",
    "WD = [0, 0, 0, 0, 0, 1, 0, 0, 0]\n",
    "SA = [0, 0, 0, 0, 0, 0, 1, 0, 0]\n",
    "SD = [0, 0, 0, 0, 0, 0, 0, 1, 0]\n",
    "NK = [0, 0, 0, 0, 0, 0, 0, 0, 1]\n",
    "\n",
    "classes = ['W', 'S', 'A', 'D', 'WA', 'WD', 'SA', 'SD', 'NK']\n",
    "\n",
    "GLOBAL_COUNTER = {\n",
    "   'W': 0,\n",
    "    'S': 0,\n",
    "    'A': 0,\n",
    "    'D': 0,\n",
    "    'WA': 0,\n",
    "    'WD': 0,\n",
    "    'SA': 0,\n",
    "    'SD': 0,\n",
    "    'NK': 0,\n",
    "}\n"
   ]
  },
  {
   "cell_type": "code",
   "execution_count": 4,
   "metadata": {},
   "outputs": [],
   "source": [
    "def get_key(val): \n",
    "    return classes[np.argmax(val)] "
   ]
  },
  {
   "cell_type": "code",
   "execution_count": 5,
   "metadata": {},
   "outputs": [
    {
     "data": {
      "text/plain": [
       "'D'"
      ]
     },
     "execution_count": 5,
     "metadata": {},
     "output_type": "execute_result"
    }
   ],
   "source": [
    "get_key([0, 0, 0, 1, 0, 0, 0, 0, 0])"
   ]
  },
  {
   "cell_type": "code",
   "execution_count": 27,
   "metadata": {},
   "outputs": [],
   "source": [
    "def analyze():\n",
    "    DIR = \"TrainingData/SHUFFLED-460k-15%W\"\n",
    "    GLOBAL_COUNTER = {\n",
    "        'W': 0,\n",
    "        'S': 0,\n",
    "        'A': 0,\n",
    "        'D': 0,\n",
    "        'WA': 0,\n",
    "        'WD': 0,\n",
    "        'SA': 0,\n",
    "        'SD': 0,\n",
    "        'NK': 0,\n",
    "    }\n",
    "    all_files = []\n",
    "    for i in range(2):\n",
    "        vals = []\n",
    "        LOCAL_COUNTER = {\n",
    "           'W': 0,\n",
    "            'S': 0,\n",
    "            'A': 0,\n",
    "            'D': 0,\n",
    "            'WA': 0,\n",
    "            'WD': 0,\n",
    "            'SA': 0,\n",
    "            'SD': 0,\n",
    "            'NK': 0,\n",
    "        }\n",
    "        \n",
    "\n",
    "        print(os.path.join(DIR, f\"CAR_160x120_{i}.npy\"))\n",
    "        data = np.load(os.path.join(DIR, f\"CAR_160x120_{i}.npy\"), allow_pickle=True)\n",
    "        \n",
    "        for d in data:\n",
    "            LOCAL_COUNTER[get_key(d[1])] += 1\n",
    "            GLOBAL_COUNTER[get_key(d[1])] += 1\n",
    "            \n",
    "        all_files.append(LOCAL_COUNTER)\n",
    "     \n",
    "\n",
    "        \n",
    "    print(\"GLOBAL: \", GLOBAL_COUNTER)\n",
    "    print(all_files)\n",
    "    plt.clf()\n",
    "    plt.bar(range(len(GLOBAL_COUNTER)), list(GLOBAL_COUNTER.values()), align='center')\n",
    "    plt.xticks(range(len(GLOBAL_COUNTER)), list(GLOBAL_COUNTER.keys()))\n",
    "    plt.show()\n",
    "    \n",
    "    W = []\n",
    "    S = []\n",
    "    A = []\n",
    "    D = []\n",
    "    WA = []\n",
    "    WD = []\n",
    "    SA = []\n",
    "    SD = []\n",
    "    NK = []\n",
    "    \n",
    "    for data in all_files:\n",
    "        W.append(data['W'])\n",
    "        WA.append(data['WA'])\n",
    "        WD.append(data['WD'])\n",
    "        S.append(data['S'])\n",
    "        SA.append(data['SA'])\n",
    "        SD.append(data['SD'])\n",
    "        A.append(data['A'])\n",
    "        D.append(data['D'])\n",
    "        NK.append(data['NK'])\n",
    "\n",
    "        \n",
    "    plt.plot(W)\n",
    "    plt.plot(S)\n",
    "    plt.plot(A)\n",
    "    plt.plot(D)\n",
    "    plt.plot(WA)\n",
    "    plt.plot(WD)\n",
    "    plt.plot(SA)\n",
    "    plt.plot(SD)\n",
    "    plt.plot(NK)\n",
    "    plt.show()\n",
    "    \n",
    "        "
   ]
  },
  {
   "cell_type": "code",
   "execution_count": 28,
   "metadata": {},
   "outputs": [
    {
     "name": "stdout",
     "output_type": "stream",
     "text": [
      "TrainingData/SHUFFLED-460k-15%W\\CAR_160x120_0.npy\n",
      "TrainingData/SHUFFLED-460k-15%W\\CAR_160x120_1.npy\n",
      "GLOBAL:  {'W': 4802, 'S': 412, 'A': 478, 'D': 239, 'WA': 3556, 'WD': 3878, 'SA': 365, 'SD': 45, 'NK': 438}\n",
      "[{'W': 2401, 'S': 371, 'A': 457, 'D': 189, 'WA': 1955, 'WD': 1514, 'SA': 171, 'SD': 41, 'NK': 355}, {'W': 2401, 'S': 41, 'A': 21, 'D': 50, 'WA': 1601, 'WD': 2364, 'SA': 194, 'SD': 4, 'NK': 83}]\n"
     ]
    },
    {
     "data": {
      "image/png": "[encoded data removed]",
      "text/plain": [
       "<Figure size 432x288 with 1 Axes>"
      ]
     },
     "metadata": {
      "needs_background": "light"
     },
     "output_type": "display_data"
    },
    {
     "data": {
      "image/png": "[encoded data removed]",
      "text/plain": [
       "<Figure size 432x288 with 1 Axes>"
      ]
     },
     "metadata": {
      "needs_background": "light"
     },
     "output_type": "display_data"
    }
   ],
   "source": [
    "analyze()"
   ]
  },
  {
   "cell_type": "code",
   "execution_count": null,
   "metadata": {},
   "outputs": [],
   "source": [
    "def BalanceEachFile(DIR):\n",
    "    \n",
    "    MAX_W = 2560\n",
    "    GLOBAL = {\n",
    "    'W': 0,\n",
    "    'S': 0,\n",
    "    'A': 0,\n",
    "    'D': 0,\n",
    "    'WA': 0,\n",
    "    'WD': 0,\n",
    "    'SA': 0,\n",
    "    'SD': 0,\n",
    "    'NK': 0,\n",
    "    }\n",
    "    GLOBAL_TOTAL = 0\n",
    "\n",
    "    for f in os.listdir(DIR):\n",
    "        w_count = 0\n",
    "        file_total = 0\n",
    "        file_name = os.path.join(DIR, f)\n",
    "        key_counter = {\n",
    "        'W': 0,\n",
    "        'S': 0,\n",
    "        'A': 0,\n",
    "        'D': 0,\n",
    "        'WA': 0,\n",
    "        'WD': 0,\n",
    "        'SA': 0,\n",
    "        'SD': 0,\n",
    "        'NK': 0,\n",
    "        }\n",
    "\n",
    "        print(\"------------------------------------------------------\")\n",
    "        print(file_name)\n",
    "        data = np.load(file_name, allow_pickle=True)\n",
    "        shuffle(data)\n",
    "        new_data = []\n",
    "\n",
    "        for i in range(16000):\n",
    "            if data[i][1] == W:\n",
    "                if w_count < MAX_W:\n",
    "                    w_count += 1\n",
    "                    new_data.append(data[i])\n",
    "                    GLOBAL[get_key(data[i][1])] += 1\n",
    "                    key_counter[get_key(data[i][1])] += 1\n",
    "                    file_total += 1\n",
    "            else:\n",
    "                new_data.append(data[i])\n",
    "                GLOBAL[get_key(data[i][1])] += 1\n",
    "                key_counter[get_key(data[i][1])] += 1\n",
    "                file_total += 1\n",
    "        \n",
    "        GLOBAL_TOTAL += file_total\n",
    "\n",
    "        print(\"FILE:\", key_counter)  \n",
    "        print(\"FILE TOTAL:\", file_total)\n",
    "        np.save(os.path.join(TAR, f), new_data)\n",
    "        \n",
    "        print(\"------------------------------------------------------\")\n",
    "\n",
    "\n",
    "\n",
    "\n",
    "    print(\"GLOBAL:\", GLOBAL)\n",
    "    print(\"GLOBAL TOTAL:\", GLOBAL_TOTAL)"
   ]
  },
  {
   "cell_type": "code",
   "execution_count": null,
   "metadata": {
    "scrolled": true
   },
   "outputs": [],
   "source": [
    "BalanceEachFile(DIR)"
   ]
  },
  {
   "cell_type": "code",
   "execution_count": null,
   "metadata": {},
   "outputs": [],
   "source": [
    "import matplotlib.pyplot as plt\n",
    "import numpy as np\n",
    "\n",
    "x = np.linspace(0, 6*np.pi, 100)\n",
    "y = np.sin(x)\n",
    "\n",
    "# You probably won't need this if you're embedding things in a tkinter plot...\n",
    "plt.ion()\n",
    "\n",
    "fig = plt.figure()\n",
    "ax = fig.add_subplot(111)\n",
    "line1, = ax.plot(x, y, 'r-') # Returns a tuple of line objects, thus the comma\n",
    "\n",
    "for phase in np.linspace(0, 10*np.pi, 500):\n",
    "    line1.set_ydata(np.sin(x + phase))\n",
    "    fig.canvas.draw()\n",
    "    fig.canvas.flush_events()"
   ]
  },
  {
   "cell_type": "code",
   "execution_count": null,
   "metadata": {},
   "outputs": [],
   "source": []
  },
  {
   "cell_type": "code",
   "execution_count": null,
   "metadata": {},
   "outputs": [],
   "source": []
  }
 ],
 "metadata": {
  "kernelspec": {
   "display_name": "Python 3",
   "language": "python",
   "name": "python3"
  },
  "language_info": {
   "codemirror_mode": {
    "name": "ipython",
    "version": 3
   },
   "file_extension": ".py",
   "mimetype": "text/x-python",
   "name": "python",
   "nbconvert_exporter": "python",
   "pygments_lexer": "ipython3",
   "version": "3.7.4"
  }
 },
 "nbformat": 4,
 "nbformat_minor": 2
}
