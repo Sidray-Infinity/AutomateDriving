{
 "cells": [
  {
   "cell_type": "code",
   "execution_count": 1,
   "metadata": {},
   "outputs": [],
   "source": [
    "import numpy as np\n",
    "import pandas as pd\n",
    "import matplotlib.pyplot as plt\n",
    "import os\n",
    "from collections import Counter"
   ]
  },
  {
   "cell_type": "code",
   "execution_count": 2,
   "metadata": {},
   "outputs": [],
   "source": [
    "DIR = \"TrainingData/500K/RAW\"\n",
    "TAR = \"TrainingData/500K/BALANCED-SHUFFLED-25%W\"\n",
    "W_ratio = 0.25 #25%"
   ]
  },
  {
   "cell_type": "code",
   "execution_count": 9,
   "metadata": {},
   "outputs": [],
   "source": [
    "KEY_MAP = {\n",
    "    'W': [1, 0, 0, 0, 0, 0, 0, 0, 0],\n",
    "    'S': [0, 1, 0, 0, 0, 0, 0, 0, 0],\n",
    "    'A': [0, 0, 1, 0, 0, 0, 0, 0, 0],\n",
    "    'D': [0, 0, 0, 1, 0, 0, 0, 0, 0],\n",
    "    'WA': [0, 0, 0, 0, 1, 0, 0, 0, 0],\n",
    "    'AW': [0, 0, 0, 0, 1, 0, 0, 0, 0],\n",
    "    'WD': [0, 0, 0, 0, 0, 1, 0, 0, 0],\n",
    "    'DW': [0, 0, 0, 0, 0, 1, 0, 0, 0],\n",
    "    'SA': [0, 0, 0, 0, 0, 0, 1, 0, 0],\n",
    "    'AS': [0, 0, 0, 0, 0, 0, 1, 0, 0],\n",
    "    'SD': [0, 0, 0, 0, 0, 0, 0, 1, 0],\n",
    "    'DS': [0, 0, 0, 0, 0, 0, 0, 1, 0],\n",
    "    'NK': [0, 0, 0, 0, 0, 0, 0, 0, 1],\n",
    "}\n",
    "\n",
    "KEY_COUNTER = {\n",
    "   'W': 0,\n",
    "    'S': 0,\n",
    "    'A': 0,\n",
    "    'D': 0,\n",
    "    'WA': 0,\n",
    "    'WD': 0,\n",
    "    'SA': 0,\n",
    "    'SD': 0,\n",
    "    'NK': 0,\n",
    "}"
   ]
  },
  {
   "cell_type": "code",
   "execution_count": 10,
   "metadata": {
    "scrolled": true
   },
   "outputs": [],
   "source": [
    "def get_key(val): \n",
    "    for key, value in KEY_MAP.items(): \n",
    "        if val == value: \n",
    "            return key \n",
    "  \n",
    "    return \"key doesn't exist\""
   ]
  },
  {
   "cell_type": "code",
   "execution_count": 6,
   "metadata": {},
   "outputs": [
    {
     "data": {
      "text/plain": [
       "'WA'"
      ]
     },
     "execution_count": 6,
     "metadata": {},
     "output_type": "execute_result"
    }
   ],
   "source": [
    "get_key([0, 0, 0, 0, 1, 0, 0, 0, 0])"
   ]
  },
  {
   "cell_type": "code",
   "execution_count": 7,
   "metadata": {},
   "outputs": [],
   "source": [
    "def BalanceEachFile(DIR):\n",
    "    list_dir = os.listdir(DIR)[:4]\n",
    "    for f in list_dir:\n",
    "        file_name = os.path.join(DIR, f)\n",
    "        print(\"------------------------------------------------------\")\n",
    "        print(file_name)\n",
    "        \n",
    "        data = np.load(file_name, allow_pickle=True)\n",
    "        df = pd.DataFrame(data)\n",
    "        print(df.head())\n",
    "        \n",
    "        for key in df[1]:\n",
    "            KEY_COUNTER[get_key(key)] += 1\n",
    "        \n",
    "        print(\"------------------------------------------------------\")"
   ]
  },
  {
   "cell_type": "code",
   "execution_count": 11,
   "metadata": {},
   "outputs": [
    {
     "name": "stdout",
     "output_type": "stream",
     "text": [
      "------------------------------------------------------\n",
      "TrainingData/500K/RAW\\CAR_TD_500K_0.npy\n",
      "                                                   0  \\\n",
      "0  [[1.0, 1.0, 1.0, 1.0, 1.0, 1.0, 1.0, 1.0, 1.0,...   \n",
      "1  [[1.0, 1.0, 1.0, 1.0, 1.0, 1.0, 1.0, 1.0, 1.0,...   \n",
      "2  [[1.0, 1.0, 1.0, 1.0, 1.0, 1.0, 1.0, 1.0, 1.0,...   \n",
      "3  [[1.0, 1.0, 1.0, 1.0, 1.0, 1.0, 1.0, 1.0, 1.0,...   \n",
      "4  [[1.0, 1.0, 1.0, 1.0, 1.0, 1.0, 1.0, 1.0, 1.0,...   \n",
      "\n",
      "                             1  \n",
      "0  [0, 0, 0, 0, 1, 0, 0, 0, 0]  \n",
      "1  [1, 0, 0, 0, 0, 0, 0, 0, 0]  \n",
      "2  [1, 0, 0, 0, 0, 0, 0, 0, 0]  \n",
      "3  [1, 0, 0, 0, 0, 0, 0, 0, 0]  \n",
      "4  [1, 0, 0, 0, 0, 0, 0, 0, 0]  \n",
      "------------------------------------------------------\n",
      "{'W': 10970, 'S': 243, 'A': 316, 'D': 197, 'WA': 2025, 'WD': 1794, 'SA': 147, 'SD': 49, 'NK': 259}\n"
     ]
    }
   ],
   "source": [
    "BalanceEachFile(DIR)\n",
    "print(KEY_COUNTER)"
   ]
  },
  {
   "cell_type": "code",
   "execution_count": null,
   "metadata": {},
   "outputs": [],
   "source": []
  }
 ],
 "metadata": {
  "kernelspec": {
   "display_name": "Python 3",
   "language": "python",
   "name": "python3"
  },
  "language_info": {
   "codemirror_mode": {
    "name": "ipython",
    "version": 3
   },
   "file_extension": ".py",
   "mimetype": "text/x-python",
   "name": "python",
   "nbconvert_exporter": "python",
   "pygments_lexer": "ipython3",
   "version": "3.7.4"
  }
 },
 "nbformat": 4,
 "nbformat_minor": 2
}
