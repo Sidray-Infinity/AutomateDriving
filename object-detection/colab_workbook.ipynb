{
  "nbformat": 4,
  "nbformat_minor": 0,
  "metadata": {
    "colab": {
      "name": "ObjDetection.ipynb",
      "provenance": [],
      "collapsed_sections": [],
      "machine_shape": "hm"
    },
    "kernelspec": {
      "name": "python3",
      "display_name": "Python 3"
    },
    "accelerator": "GPU"
  },
  "cells": [
    {
      "cell_type": "code",
      "metadata": {
        "id": "MgyYqQOSIl3o",
        "colab_type": "code",
        "colab": {}
      },
      "source": [
        "!pip install tensorflow==1.15\n",
        "!pip install ipyparallel\n",
        "!git clone https://github.com/Sidray-Infinity/AutomateDriving/  \n",
        "!git clone https://github.com/tensorflow/models\n",
        "!pip install --user Cython contextlib2 pillow lxml\n",
        "!git clone https://github.com/cocodataset/cocoapi.git\n",
        "!cd cocoapi/PythonAPI; make\n",
        "!cp -r cocoapi/PythonAPI/pycocotools models/research\n",
        "!cd models/research; wget -O protobuf.zip https://github.com/protocolbuffers/protobuf/releases/download/v3.4.0/protoc-3.4.0-linux-x86_64.zip\n",
        "!cd models/research; unzip protobuf.zip\n",
        "!cd models/research; bin/protoc object_detection/protos/*.proto --python_out=."
      ],
      "execution_count": 0,
      "outputs": []
    },
    {
      "cell_type": "code",
      "metadata": {
        "id": "KHP02SRmIqho",
        "colab_type": "code",
        "colab": {}
      },
      "source": [
        "!cd models/research; python setup.py build\n",
        "!cd models/research; python setup.py install\n",
        "!cd models/research; export PYTHONPATH=$PYTHONPATH:`pwd`:`pwd`/slim"
      ],
      "execution_count": 0,
      "outputs": []
    },
    {
      "cell_type": "code",
      "metadata": {
        "id": "8_DBroeBlJh4",
        "colab_type": "code",
        "colab": {}
      },
      "source": [
        "!cd models/research; export PYTHONPATH=$PYTHONPATH:`pwd`:`pwd`/slim"
      ],
      "execution_count": 0,
      "outputs": []
    },
    {
      "cell_type": "code",
      "metadata": {
        "id": "DlsEx4H4Qi3S",
        "colab_type": "code",
        "colab": {}
      },
      "source": [
        "!wget https://bin.equinox.io/c/4VmDzA7iaHb/ngrok-stable-linux-amd64.zip\n",
        "!unzip ngrok-stable-linux-amd64.zip"
      ],
      "execution_count": 0,
      "outputs": []
    },
    {
      "cell_type": "code",
      "metadata": {
        "id": "_GHpmmP_R-Iw",
        "colab_type": "code",
        "outputId": "9c958efe-9d24-4e05-be9b-f316d490bcba",
        "colab": {
          "base_uri": "https://localhost:8080/",
          "height": 817
        }
      },
      "source": [
        "%tensorflow_version 1.x\n",
        "# import tensorflow as tf\n",
        "# import datetime, os\n",
        "\n",
        "# # LOG_DIR = '/tmp'\n",
        "# # get_ipython().system_raw(\n",
        "# #     'tensorboard --logdir {} --host 0.0.0.0 --port 6006 &'\n",
        "# #     .format(LOG_DIR)\n",
        "# #)\n",
        "\n",
        "# %tensorboard --logdir AutomateDriving/object-detection/training/model\n",
        "\n",
        "#get_ipython().system_raw('./ngrok http 6006 &')\n",
        "\n",
        "# ! curl -s http://localhost:4040/api/tunnels | python3 -c \\\n",
        "#     \"import sys, json; print(json.load(sys.stdin)['tunnels'][0]['public_url'])\"\n",
        "\n",
        "!cd AutomateDriving/object-detection; python model_main.py --model_dir=training/model/130imgs --logtostderr --pipeline_config_path=training/ssd_mobilenet_v1_coco_2018_01_28.config"
      ],
      "execution_count": 0,
      "outputs": [
        {
          "output_type": "stream",
          "text": [
            "INFO:tensorflow:global_step/sec: 3.65351\n",
            "I0108 10:10:42.830756 140080847955840 basic_session_run_hooks.py:692] global_step/sec: 3.65351\n",
            "INFO:tensorflow:loss = 2.4284275, step = 2600 (27.371 sec)\n",
            "I0108 10:10:42.831760 140080847955840 basic_session_run_hooks.py:260] loss = 2.4284275, step = 2600 (27.371 sec)\n",
            "INFO:tensorflow:global_step/sec: 3.66439\n",
            "I0108 10:11:10.120454 140080847955840 basic_session_run_hooks.py:692] global_step/sec: 3.66439\n",
            "INFO:tensorflow:loss = 3.2613592, step = 2700 (27.290 sec)\n",
            "I0108 10:11:10.121288 140080847955840 basic_session_run_hooks.py:260] loss = 3.2613592, step = 2700 (27.290 sec)\n",
            "INFO:tensorflow:global_step/sec: 3.666\n",
            "I0108 10:11:37.398118 140080847955840 basic_session_run_hooks.py:692] global_step/sec: 3.666\n",
            "INFO:tensorflow:loss = 2.9751792, step = 2800 (27.278 sec)\n",
            "I0108 10:11:37.398913 140080847955840 basic_session_run_hooks.py:260] loss = 2.9751792, step = 2800 (27.278 sec)\n",
            "INFO:tensorflow:global_step/sec: 3.67097\n",
            "I0108 10:12:04.638844 140080847955840 basic_session_run_hooks.py:692] global_step/sec: 3.67097\n",
            "INFO:tensorflow:loss = 2.9365745, step = 2900 (27.241 sec)\n",
            "I0108 10:12:04.639905 140080847955840 basic_session_run_hooks.py:260] loss = 2.9365745, step = 2900 (27.241 sec)\n",
            "INFO:tensorflow:global_step/sec: 3.68686\n",
            "I0108 10:12:31.762233 140080847955840 basic_session_run_hooks.py:692] global_step/sec: 3.68686\n",
            "INFO:tensorflow:loss = 3.3026621, step = 3000 (27.123 sec)\n",
            "I0108 10:12:31.763175 140080847955840 basic_session_run_hooks.py:260] loss = 3.3026621, step = 3000 (27.123 sec)\n",
            "INFO:tensorflow:global_step/sec: 3.6626\n",
            "I0108 10:12:59.065243 140080847955840 basic_session_run_hooks.py:692] global_step/sec: 3.6626\n",
            "INFO:tensorflow:loss = 2.8522928, step = 3100 (27.303 sec)\n",
            "I0108 10:12:59.066419 140080847955840 basic_session_run_hooks.py:260] loss = 2.8522928, step = 3100 (27.303 sec)\n",
            "INFO:tensorflow:global_step/sec: 3.67256\n",
            "I0108 10:13:26.294220 140080847955840 basic_session_run_hooks.py:692] global_step/sec: 3.67256\n",
            "INFO:tensorflow:loss = 3.8836403, step = 3200 (27.229 sec)\n",
            "I0108 10:13:26.295036 140080847955840 basic_session_run_hooks.py:260] loss = 3.8836403, step = 3200 (27.229 sec)\n",
            "INFO:tensorflow:global_step/sec: 3.64711\n",
            "I0108 10:13:53.713159 140080847955840 basic_session_run_hooks.py:692] global_step/sec: 3.64711\n",
            "INFO:tensorflow:loss = 2.8638008, step = 3300 (27.419 sec)\n",
            "I0108 10:13:53.714155 140080847955840 basic_session_run_hooks.py:260] loss = 2.8638008, step = 3300 (27.419 sec)\n",
            "INFO:tensorflow:global_step/sec: 3.63446\n",
            "I0108 10:14:21.227578 140080847955840 basic_session_run_hooks.py:692] global_step/sec: 3.63446\n",
            "INFO:tensorflow:loss = 2.5643606, step = 3400 (27.514 sec)\n",
            "I0108 10:14:21.228495 140080847955840 basic_session_run_hooks.py:260] loss = 2.5643606, step = 3400 (27.514 sec)\n",
            "INFO:tensorflow:global_step/sec: 3.60843\n",
            "I0108 10:14:48.940476 140080847955840 basic_session_run_hooks.py:692] global_step/sec: 3.60843\n",
            "INFO:tensorflow:loss = 2.898994, step = 3500 (27.713 sec)\n",
            "I0108 10:14:48.941418 140080847955840 basic_session_run_hooks.py:260] loss = 2.898994, step = 3500 (27.713 sec)\n",
            "INFO:tensorflow:global_step/sec: 3.62171\n",
            "I0108 10:15:16.551793 140080847955840 basic_session_run_hooks.py:692] global_step/sec: 3.62171\n",
            "INFO:tensorflow:loss = 3.3685262, step = 3600 (27.611 sec)\n",
            "I0108 10:15:16.552802 140080847955840 basic_session_run_hooks.py:260] loss = 3.3685262, step = 3600 (27.611 sec)\n"
          ],
          "name": "stdout"
        }
      ]
    }
  ]
}